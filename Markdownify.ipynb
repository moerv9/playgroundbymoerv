{
 "cells": [
  {
   "cell_type": "code",
   "execution_count": 3,
   "metadata": {},
   "outputs": [],
   "source": [
    "from markdownify import markdownify\n",
    "\n",
    "file = open(\"/Users/marvinottersberg/Downloads/Let’s learn, build and sell an API | by Rakesh Potnuru | CodeX | Medium.html\",\"r\").read()\n",
    "#md_text_list = []\n",
    "md = markdownify(file)\n",
    "\n",
    "#md_text_list.append(\"##\" + md.split(\"###\")[1])\n",
    "\n",
    "text_file = open(\"bookmark_list.md\", \"w\")\n",
    "text_file.write(\"\\n\".join(md))\n",
    "text_file.close()"
   ]
  }
 ],
 "metadata": {
  "kernelspec": {
   "display_name": "Python 3.9.12 ('bots')",
   "language": "python",
   "name": "python3"
  },
  "language_info": {
   "codemirror_mode": {
    "name": "ipython",
    "version": 3
   },
   "file_extension": ".py",
   "mimetype": "text/x-python",
   "name": "python",
   "nbconvert_exporter": "python",
   "pygments_lexer": "ipython3",
   "version": "3.9.12"
  },
  "orig_nbformat": 4,
  "vscode": {
   "interpreter": {
    "hash": "3cb0ae50c3becafcbdedadca390f6b6dd1cddd9397c066240d5211a5d19010c4"
   }
  }
 },
 "nbformat": 4,
 "nbformat_minor": 2
}
